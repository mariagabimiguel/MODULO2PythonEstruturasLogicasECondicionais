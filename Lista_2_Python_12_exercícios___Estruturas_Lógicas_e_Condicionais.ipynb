{
  "nbformat": 4,
  "nbformat_minor": 0,
  "metadata": {
    "colab": {
      "provenance": []
    },
    "kernelspec": {
      "name": "python3",
      "display_name": "Python 3"
    },
    "language_info": {
      "name": "python"
    }
  },
  "cells": [
    {
      "cell_type": "markdown",
      "source": [
        "##1) COMO RECEBER DOIS NÚMEROS E MOSTRAR QUAL DELES É O MAIOR?"
      ],
      "metadata": {
        "id": "svET__z6_oCG"
      }
    },
    {
      "cell_type": "code",
      "source": [
        "primeiro_valor = int(input(\"Digite o primeiro valor: \"))\n",
        "segundo_valor = int(input(\"Digite o segundo valor: \"))"
      ],
      "metadata": {
        "colab": {
          "base_uri": "https://localhost:8080/"
        },
        "id": "Dfiwae7B_tDe",
        "outputId": "d9f1c8e6-68cf-4344-ed4c-aabcf53b2d41"
      },
      "execution_count": 16,
      "outputs": [
        {
          "name": "stdout",
          "output_type": "stream",
          "text": [
            "Digite o primeiro valor: 10\n",
            "Digite o segundo valor: 10\n"
          ]
        }
      ]
    },
    {
      "cell_type": "code",
      "source": [
        "#agora vamos trabalhar a lógica do que é pedido usando o comando condicional if\n",
        "if (primeiro_valor > segundo_valor):\n",
        "  print(f\"O maior valor é o primeiro valor digitado: {primeiro_valor}\")\n",
        "elif (primeiro_valor == segundo_valor):\n",
        "  print (\"Os valores são iguais\")\n",
        "else:\n",
        "  print(f\"O maior valor é o segundo valor digitado: {segundo_valor}\")"
      ],
      "metadata": {
        "colab": {
          "base_uri": "https://localhost:8080/"
        },
        "id": "bagomt4QApHa",
        "outputId": "baa73f1d-86d3-4296-d1a0-d5a44dd95270"
      },
      "execution_count": 17,
      "outputs": [
        {
          "output_type": "stream",
          "name": "stdout",
          "text": [
            "Os valores são iguais\n"
          ]
        }
      ]
    },
    {
      "cell_type": "markdown",
      "source": [
        "##2) COMO LER UM NÚMERO E VERIFICAR SE É POSITIVO OU NEGATIVO? CASO SEJA POSITIVO, CALCULE SUA RAIZ QUADRADA."
      ],
      "metadata": {
        "id": "1O1ECraCDwnd"
      }
    },
    {
      "cell_type": "code",
      "source": [
        "primeiro_numero = int(input(\"Digite um numero: \"))"
      ],
      "metadata": {
        "colab": {
          "base_uri": "https://localhost:8080/"
        },
        "id": "RjkXAce9EJgV",
        "outputId": "ff5dc12f-bcab-456f-fda2-fb19fbe2ec49"
      },
      "execution_count": 33,
      "outputs": [
        {
          "name": "stdout",
          "output_type": "stream",
          "text": [
            "Digite um numero: 9\n"
          ]
        }
      ]
    },
    {
      "cell_type": "code",
      "source": [
        "import math\n",
        "\n",
        "if (primeiro_numero >= 0):\n",
        " raiz = math.sqrt(primeiro_numero)\n",
        " print (f\"A raiz é : {raiz}\")\n",
        "else:\n",
        "  print (\"O numero é negativo\")"
      ],
      "metadata": {
        "colab": {
          "base_uri": "https://localhost:8080/"
        },
        "id": "_-4Xz0PwFkLG",
        "outputId": "038dc5d1-ff05-4e66-d9b0-147e9d13f139"
      },
      "execution_count": 34,
      "outputs": [
        {
          "output_type": "stream",
          "name": "stdout",
          "text": [
            "A raiz é : 3.0\n"
          ]
        }
      ]
    },
    {
      "cell_type": "markdown",
      "source": [
        "##3) COMO LER UM NÚMERO REAL E VERIFICAR SE É POSITIVO? SE POSITIVO, IMPRIMA A RAIZ QUADRADA. CASO CONTRÁRIO, IMPRIMA O NÚMERO AO QUADRADO."
      ],
      "metadata": {
        "id": "AAanXomGGfZ6"
      }
    },
    {
      "cell_type": "code",
      "source": [
        "numero_real = float(input(\"Digite um numero real: \"))"
      ],
      "metadata": {
        "colab": {
          "base_uri": "https://localhost:8080/"
        },
        "id": "ph2_PGD9G95d",
        "outputId": "9777be5c-7780-4746-e1ff-53ef2a425ad8"
      },
      "execution_count": 45,
      "outputs": [
        {
          "name": "stdout",
          "output_type": "stream",
          "text": [
            "Digite um numero real: -2\n"
          ]
        }
      ]
    },
    {
      "cell_type": "code",
      "source": [
        "if (numero_real >= 0):\n",
        " raiz = math.sqrt(numero_real)\n",
        " print (f\"O numero é positivo e sua raiz é : {raiz}\")\n",
        "else:\n",
        "  numero_real_quadrado = (numero_real**2)\n",
        "  print (f\"O numero é negativo e seu quadrado é: {numero_real_quadrado}\")"
      ],
      "metadata": {
        "colab": {
          "base_uri": "https://localhost:8080/"
        },
        "id": "gz6ILC0KHMCN",
        "outputId": "e2054255-8c81-46ac-8f38-77617049615c"
      },
      "execution_count": 46,
      "outputs": [
        {
          "output_type": "stream",
          "name": "stdout",
          "text": [
            "O numero é negativo e seu quadrado é: 4.0\n"
          ]
        }
      ]
    },
    {
      "cell_type": "markdown",
      "source": [
        "##4) COMO RECEBER UM NÚMERO INTEIRO E VERIFICAR SE ELE É PAR OU ÍMPAR?"
      ],
      "metadata": {
        "id": "ATYRTrLbGDzc"
      }
    },
    {
      "cell_type": "code",
      "source": [
        "recebe_numero = int(input(\"Digite um valor inteiro: \"))"
      ],
      "metadata": {
        "colab": {
          "base_uri": "https://localhost:8080/"
        },
        "id": "FwruEwEGGL3p",
        "outputId": "c9bfad45-413a-455c-9f8d-f3468dffdc09"
      },
      "execution_count": 47,
      "outputs": [
        {
          "name": "stdout",
          "output_type": "stream",
          "text": [
            "Digite um valor inteiro: 10\n"
          ]
        }
      ]
    },
    {
      "cell_type": "code",
      "source": [
        "if (recebe_numero%2 == 0):\n",
        "  print (f\"O numero {recebe_numero} é par\")\n",
        "else:\n",
        "  print (f\"O numero {recebe_numero} é ímpar\")"
      ],
      "metadata": {
        "colab": {
          "base_uri": "https://localhost:8080/"
        },
        "id": "4nhPPVl5KHzH",
        "outputId": "ba85503c-0efa-4873-f18d-47cb0c096083"
      },
      "execution_count": 53,
      "outputs": [
        {
          "output_type": "stream",
          "name": "stdout",
          "text": [
            "O numero 10 é par\n"
          ]
        }
      ]
    },
    {
      "cell_type": "markdown",
      "source": [
        "## 5) COMO LER O SALÁRIO E O VALOR DA PRESTAÇÃO DE UM EMPRÉSTIMO? ALÉM DISSO, SE A PRESTAÇÃO FOR MAIOR QUE 20% DO SALÁRIO, IMPRIMA: EMPRÉSTIMO NÃO CONCEDIDO, CASO CONTRÁRIO IMPRIMA: EMPRÉSTIMO CONCEDIDO."
      ],
      "metadata": {
        "id": "zDQijTYhLoP8"
      }
    },
    {
      "cell_type": "code",
      "source": [
        "salario_trabalhador = float(input(\"Digite o valor do salário: \"))\n",
        "valor_da_prestacao = float(input(\"Digite o valor da prestação do empréstimo: \"))"
      ],
      "metadata": {
        "colab": {
          "base_uri": "https://localhost:8080/"
        },
        "id": "cbPDUB3yMYt6",
        "outputId": "57a8f38c-bb64-474b-ca1f-1fe91397251d"
      },
      "execution_count": 61,
      "outputs": [
        {
          "name": "stdout",
          "output_type": "stream",
          "text": [
            "Digite o valor do salário: 200\n",
            "Digite o valor da prestação do empréstimo: 23.45\n"
          ]
        }
      ]
    },
    {
      "cell_type": "code",
      "source": [
        "#verificar quanto é 20% do salário\n",
        "controle_prestacao = ((salario_trabalhador * 20)/100)\n",
        "print(controle_prestacao)"
      ],
      "metadata": {
        "colab": {
          "base_uri": "https://localhost:8080/"
        },
        "id": "8mceNdZpM-RK",
        "outputId": "3bc03c0a-0d4f-4c46-cc12-6f43353b19a8"
      },
      "execution_count": 62,
      "outputs": [
        {
          "output_type": "stream",
          "name": "stdout",
          "text": [
            "40.0\n"
          ]
        }
      ]
    },
    {
      "cell_type": "code",
      "source": [
        "#condicional para verificar a possibilidade de emprestimo\n",
        "if (valor_da_prestacao >= controle_prestacao):\n",
        "  print (\"EMPRESTIMO NÃO CONCEDIDO\")\n",
        "else:\n",
        "  print (\"EMPRESTIMO CONCEDIDO\")"
      ],
      "metadata": {
        "colab": {
          "base_uri": "https://localhost:8080/"
        },
        "id": "t41zr3lxNrgr",
        "outputId": "6806b52f-7a07-4926-96f1-c500d3e0c0e8"
      },
      "execution_count": 64,
      "outputs": [
        {
          "output_type": "stream",
          "name": "stdout",
          "text": [
            "EMPRESTIMO CONCEDIDO\n"
          ]
        }
      ]
    },
    {
      "cell_type": "markdown",
      "source": [
        "##6) COMO LER UM NÚMERO INTEIRO E CALCULAR O SEU LOGARITMO SE ELE FOR POSITIVO? SE FOR NEGATIVO, IMPRIMA \"NÚMERO INVALIDO\". "
      ],
      "metadata": {
        "id": "HAKDs3VRPHnk"
      }
    },
    {
      "cell_type": "code",
      "source": [
        "ler_numero_inteiro = int(input(\"Digite um número inteiro: \"))"
      ],
      "metadata": {
        "colab": {
          "base_uri": "https://localhost:8080/"
        },
        "id": "R-z52rVGQ-NX",
        "outputId": "6968ad04-094a-41ed-8fce-e10c1bcce795"
      },
      "execution_count": 69,
      "outputs": [
        {
          "name": "stdout",
          "output_type": "stream",
          "text": [
            "Digite um número inteiro: 10\n"
          ]
        }
      ]
    },
    {
      "cell_type": "code",
      "source": [
        "if (ler_numero_inteiro >= 0):\n",
        " logaritmo = math.log(ler_numero_inteiro)\n",
        " print(f\"O logaritmo do número {ler_numero_inteiro} é {logaritmo}\")\n",
        "else:\n",
        "  print(\"Número Inválido\")"
      ],
      "metadata": {
        "colab": {
          "base_uri": "https://localhost:8080/"
        },
        "id": "xocTUbXVRRnO",
        "outputId": "61e78833-7959-48a1-a546-9db3bebef316"
      },
      "execution_count": 70,
      "outputs": [
        {
          "output_type": "stream",
          "name": "stdout",
          "text": [
            "O logaritmo do número 10 é 2.302585092994046\n"
          ]
        }
      ]
    },
    {
      "cell_type": "markdown",
      "source": [
        "##7) COMO LER DUAS NOTAS DE UM ALUNO, VERIFICAR SE AS NOTAS SÃO VÁLIDAS E EXIBIR NA TELA A MÉDIA DESSAS NOTAS? UMA NOTA VÁLIDA DEVE SER UM VALOR ENTRE 0.0 E 10.0. INFORMAR AO USUÁRIO SE NÃO FOR UM VALOR VÁLIDO."
      ],
      "metadata": {
        "id": "2XmtvEHiS95m"
      }
    },
    {
      "cell_type": "code",
      "source": [
        "primeira_nota = float(input(\"Digite a primeira nota do aluno: \"))\n",
        "segunda_nota = float(input(\"Digite a primeira nota do aluno: \"))"
      ],
      "metadata": {
        "colab": {
          "base_uri": "https://localhost:8080/"
        },
        "id": "qADYUijfTP3T",
        "outputId": "b0741e43-7b2f-4a64-dfe7-84122aad256b"
      },
      "execution_count": 73,
      "outputs": [
        {
          "name": "stdout",
          "output_type": "stream",
          "text": [
            "Digite a primeira nota do aluno: 8\n",
            "Digite a primeira nota do aluno: 10\n"
          ]
        }
      ]
    },
    {
      "cell_type": "code",
      "source": [
        "if ((primeira_nota >= 0 and primeira_nota <=10) and (segunda_nota >= 0 and segunda_nota <=10)):\n",
        "  media = (primeira_nota + segunda_nota)/2\n",
        "  print (f\"A média das notas é: {media}\")\n",
        "else:\n",
        "  print(\"NÃO É UM VALOR VÁLIDO\")  "
      ],
      "metadata": {
        "colab": {
          "base_uri": "https://localhost:8080/"
        },
        "id": "uRy1A8vKVPe0",
        "outputId": "8724bcb2-cfd5-4656-9d8a-bd16a970de8b"
      },
      "execution_count": 74,
      "outputs": [
        {
          "output_type": "stream",
          "name": "stdout",
          "text": [
            "A média das notas é: 9.0\n"
          ]
        }
      ]
    },
    {
      "cell_type": "markdown",
      "source": [
        "##8) COMO LER DOIS NÚMEROS E IMPRIMIR EM ORDEM CRESCENTE?"
      ],
      "metadata": {
        "id": "bpkLmV3VW7RS"
      }
    },
    {
      "cell_type": "code",
      "source": [
        "primeiro_numero = int(input(\"Digite o primeiro número: \"))\n",
        "segundo_numero = int(input(\"Digite o segundo número: \"))"
      ],
      "metadata": {
        "colab": {
          "base_uri": "https://localhost:8080/"
        },
        "id": "QtsZfuTbXEIM",
        "outputId": "d994b304-047a-4995-bd1b-b8284615a1e9"
      },
      "execution_count": 75,
      "outputs": [
        {
          "name": "stdout",
          "output_type": "stream",
          "text": [
            "Digite o primeiro número: 10\n",
            "Digite o segundo número: 5\n"
          ]
        }
      ]
    },
    {
      "cell_type": "code",
      "source": [
        "#prestar atenção na lógica da ordem\n",
        "if (primeiro_numero > segundo_numero):\n",
        "  print (f\"A ordem crescente é {segundo_numero} - {primeiro_numero}\")\n",
        "else: \n",
        "   print (f\"A ordem crescente é {primeiro_numero} - {segundo_numero}\")"
      ],
      "metadata": {
        "colab": {
          "base_uri": "https://localhost:8080/"
        },
        "id": "ZakWUil7XTCJ",
        "outputId": "5cd5c3f6-9c38-4d30-ec97-e8cf155200db"
      },
      "execution_count": 77,
      "outputs": [
        {
          "output_type": "stream",
          "name": "stdout",
          "text": [
            "A ordem crescente é 5.0 - 10.0\n"
          ]
        }
      ]
    },
    {
      "cell_type": "markdown",
      "source": [
        "##9) COMO RECEBER A IDADE DE UM NADADOR E CLASSIFICAR EM UMA DAS CATEGORIAS: Infantil A = 5-7 anos | Infantil B = 8-10 anos | Juvenil A = 11-13 | Juvenil B = 14-17 anos | Adulto = maiores de 18 anos?"
      ],
      "metadata": {
        "id": "zuvWYBKzYTc_"
      }
    },
    {
      "cell_type": "code",
      "source": [
        "idade_nadador = int(input(\"Digite a idade: \"))"
      ],
      "metadata": {
        "colab": {
          "base_uri": "https://localhost:8080/"
        },
        "id": "hjUZqVvLZbn1",
        "outputId": "e37986a9-776a-4c10-afc6-04795c2d3d7e"
      },
      "execution_count": 78,
      "outputs": [
        {
          "name": "stdout",
          "output_type": "stream",
          "text": [
            "Digite a idade: 18\n"
          ]
        }
      ]
    },
    {
      "cell_type": "code",
      "source": [
        "if ((idade_nadador >= 5) and (idade_nadador <= 7)):\n",
        "  print (\"Infantil A\")\n",
        "elif ((idade_nadador >= 8) and (idade_nadador <= 10)):\n",
        "  print (\"Infantil B\")\n",
        "elif ((idade_nadador >= 11) and (idade_nadador <= 13)):\n",
        "  print (\"Juvenil A\")\n",
        "elif ((idade_nadador >= 14) and (idade_nadador <= 17)):\n",
        "  print (\"Juvenil B\")\n",
        "elif (idade_nadador >= 18): #se colocasse else direto, as idades fora de categoria seriam adulto (ex.:3 anos)\n",
        "  print (\"Adulto\")\n",
        "else:\n",
        "  print(\"Não tem categoria\")"
      ],
      "metadata": {
        "colab": {
          "base_uri": "https://localhost:8080/"
        },
        "id": "egzGP5RrZoLr",
        "outputId": "a0449217-5b01-419c-8a0f-103088aec8dc"
      },
      "execution_count": 80,
      "outputs": [
        {
          "output_type": "stream",
          "name": "stdout",
          "text": [
            "Adulto\n"
          ]
        }
      ]
    },
    {
      "cell_type": "markdown",
      "source": [
        "##10) COMO LER VALORES A, B E C E IMPRIMIR SE A SOMA DE A+B É MENOR QUE C"
      ],
      "metadata": {
        "id": "67GS4InLbNLh"
      }
    },
    {
      "cell_type": "code",
      "source": [
        "a = int(input(\"Digite o primeiro número: \"))\n",
        "b = int(input(\"Digite o segundo número: \"))\n",
        "c = int(input(\"Digite o primeiro número: \"))"
      ],
      "metadata": {
        "colab": {
          "base_uri": "https://localhost:8080/"
        },
        "id": "SkVSKTBDbNha",
        "outputId": "d1f4d6b8-5a1e-4665-f182-5f76e26b5933"
      },
      "execution_count": 82,
      "outputs": [
        {
          "name": "stdout",
          "output_type": "stream",
          "text": [
            "Digite o primeiro número: 4\n",
            "Digite o segundo número: 9\n",
            "Digite o primeiro número: 2\n"
          ]
        }
      ]
    },
    {
      "cell_type": "code",
      "source": [
        "soma_a_b = a + b\n",
        "print (soma_a_b)"
      ],
      "metadata": {
        "colab": {
          "base_uri": "https://localhost:8080/"
        },
        "id": "WwML-0obbYEH",
        "outputId": "42f7870c-5945-48b2-b234-6836b2b143a8"
      },
      "execution_count": 84,
      "outputs": [
        {
          "output_type": "stream",
          "name": "stdout",
          "text": [
            "13\n"
          ]
        }
      ]
    },
    {
      "cell_type": "code",
      "source": [
        "if (soma_a_b < c):\n",
        "  print (f\"A soma de {a} e {b} é menor que o valor {c}\")\n",
        "elif (soma_a_b > c):\n",
        "  print (f\"A soma de {a} e {b} é maior que o valor {c}\")\n",
        "else:\n",
        "  print (f\"A soma de {a} e {b} é igual ao valor {c}\")\n"
      ],
      "metadata": {
        "colab": {
          "base_uri": "https://localhost:8080/"
        },
        "id": "oFiD2vzJbfol",
        "outputId": "37211830-1c9c-4782-c033-2caeaf0ed8f1"
      },
      "execution_count": 86,
      "outputs": [
        {
          "output_type": "stream",
          "name": "stdout",
          "text": [
            "A soma de 4 e 9 é maior que o valor 2\n"
          ]
        }
      ]
    },
    {
      "cell_type": "markdown",
      "source": [
        "##11) COMO LER UM NÚMERO E DIZER SE ELE É DIVISÍVEL POR 2 E POR 3. USE ESTRUTURA DE DESVIO CONDICIONAL SIMPLES"
      ],
      "metadata": {
        "id": "T5du-7aDfFoa"
      }
    },
    {
      "cell_type": "code",
      "source": [
        "ler_numero_divisivel = int(input(\"Digite um valor: \"))"
      ],
      "metadata": {
        "colab": {
          "base_uri": "https://localhost:8080/"
        },
        "id": "6uoB3E7kf-LN",
        "outputId": "13eabf69-6c0b-4a9a-8491-4d4879112a80"
      },
      "execution_count": 87,
      "outputs": [
        {
          "name": "stdout",
          "output_type": "stream",
          "text": [
            "Digite um valor: 6\n"
          ]
        }
      ]
    },
    {
      "cell_type": "code",
      "source": [
        "if ((ler_numero_divisivel %2 == 0) and  (ler_numero_divisivel %3 == 0)):\n",
        "  print (\"É divisivel por 2 e por 3!\")\n",
        "else:\n",
        "  print (\"Não é divísivel!\")"
      ],
      "metadata": {
        "colab": {
          "base_uri": "https://localhost:8080/"
        },
        "id": "l6LruzPMgM2P",
        "outputId": "51c79817-3a15-4609-94e7-a72630430efd"
      },
      "execution_count": 89,
      "outputs": [
        {
          "output_type": "stream",
          "name": "stdout",
          "text": [
            "É divisivel por 2 e por 3!\n"
          ]
        }
      ]
    },
    {
      "cell_type": "markdown",
      "source": [
        "##12) COMO LER A DISTÂNCIA EM KM E A QUANTIDADE DE LITROS DE GASOLINA CONSUMIDOS POR UM CARRO E CALCULAR O CONSUMO EM KM/L? ESCREVA UMA MENSAGEM DE ACORDO COM A TABELA ABAIXO:"
      ],
      "metadata": {
        "id": "ufiW-OK1g_My"
      }
    },
    {
      "cell_type": "markdown",
      "source": [
        "![image.png](data:image/png;base64,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)"
      ],
      "metadata": {
        "id": "CT6a7a0khb0p"
      }
    },
    {
      "cell_type": "code",
      "source": [
        "km = int(input(\"Digite a distância percorrida: \"))\n",
        "litros_consumidos = int(input(\"Digite a quantidade de litros de gasolina consumida: \"))"
      ],
      "metadata": {
        "colab": {
          "base_uri": "https://localhost:8080/"
        },
        "id": "wyOHI8JUhZEi",
        "outputId": "f5d495a0-13d7-4ac5-e413-76a134f1ceca"
      },
      "execution_count": 90,
      "outputs": [
        {
          "name": "stdout",
          "output_type": "stream",
          "text": [
            "Digite a distância percorrida: 100\n",
            "Digite a quantidade de litros de gasolina consumida: 8\n"
          ]
        }
      ]
    },
    {
      "cell_type": "code",
      "source": [
        "consumo = km/litros_consumidos\n",
        "print (consumo)"
      ],
      "metadata": {
        "colab": {
          "base_uri": "https://localhost:8080/"
        },
        "id": "8_8Js6f-hxa3",
        "outputId": "d5f73f0e-b9a9-4d3c-d182-6503e43fe596"
      },
      "execution_count": 92,
      "outputs": [
        {
          "output_type": "stream",
          "name": "stdout",
          "text": [
            "12.5\n"
          ]
        }
      ]
    },
    {
      "cell_type": "code",
      "source": [
        "if (consumo < 8):\n",
        "  print (\"Venda o carro!\")\n",
        "elif (consumo >= 8) and (consumo <= 12):\n",
        "  print (\"Econômico!\")\n",
        "else:\n",
        "  print (\"Super econômico!\")"
      ],
      "metadata": {
        "colab": {
          "base_uri": "https://localhost:8080/"
        },
        "id": "pXH7Mz9Lh2zq",
        "outputId": "fb9c14fd-619c-48e9-ba47-c169bccee13c"
      },
      "execution_count": 93,
      "outputs": [
        {
          "output_type": "stream",
          "name": "stdout",
          "text": [
            "Super econômico!\n"
          ]
        }
      ]
    }
  ]
}